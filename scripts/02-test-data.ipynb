{
 "cells": [
  {
   "cell_type": "markdown",
   "id": "f634c08a",
   "metadata": {},
   "source": [
    "## PREAMBLE ##\n",
    "# Author: Luca Carnegie\n",
    "# Date: 2025-04-23\n",
    "\n",
    "# This code does some basic data sanity checks to ensure everything is working properly with the classifier dataset.\n",
    "\n",
    "# Prerequisites: 01-clean-fma-data"
   ]
  },
  {
   "cell_type": "code",
   "execution_count": 2,
   "id": "79bc46f8",
   "metadata": {},
   "outputs": [],
   "source": [
    "import pandas as pd\n",
    "import os\n",
    "\n",
    "# Change working directory to the repo\n",
    "os.chdir(\"C:\\\\Users\\\\lucac\\\\Documents\\\\GitHub\\\\song-cluster\")\n",
    "\n",
    "# load the data\n",
    "df = pd.read_csv('data/analysis_data/classifier_data.csv')\n",
    "\n"
   ]
  },
  {
   "cell_type": "code",
   "execution_count": null,
   "id": "c897760b",
   "metadata": {},
   "outputs": [
    {
     "name": "stdout",
     "output_type": "stream",
     "text": [
      "All basic data checks passed.\n"
     ]
    }
   ],
   "source": [
    "# Basic data sanity tests\n",
    "\n",
    "# 1. DataFrame is not empty\n",
    "assert not df.empty, \"DataFrame is empty.\"\n",
    "\n",
    "# 2. No missing values in any column\n",
    "missing = df.isnull().sum()\n",
    "assert missing.sum() == 0, f\"Missing values found:\\n{missing}\"\n",
    "\n",
    "# 3. Categorical columns should have a reasonable number of unique values\n",
    "cat_cols = df.select_dtypes(include=['object', 'category']).columns\n",
    "for col in cat_cols:\n",
    "    n_unique = df[col].nunique()\n",
    "    assert n_unique < len(df) * 0.5, f\"Column '{col}' has {n_unique} unique values (too many?).\"\n",
    "\n",
    "# 4. Should have one of the ten chosen genres in the genre_top column\n",
    "assert df.genre_top.isin(['Classical', 'Electronic', \n",
    "                          'Experimental', 'Folk', \n",
    "                          'Hip-Hop', 'Instrumental', \n",
    "                          'International', 'Jazz', \n",
    "                          'Pop', 'Rock']\n",
    "                        ).all(), \"Invalid genre in 'genre_top' column.\"\n",
    "\n",
    "print(\"All basic data checks passed.\")"
   ]
  }
 ],
 "metadata": {
  "kernelspec": {
   "display_name": "Python 3",
   "language": "python",
   "name": "python3"
  },
  "language_info": {
   "codemirror_mode": {
    "name": "ipython",
    "version": 3
   },
   "file_extension": ".py",
   "mimetype": "text/x-python",
   "name": "python",
   "nbconvert_exporter": "python",
   "pygments_lexer": "ipython3",
   "version": "3.13.2"
  }
 },
 "nbformat": 4,
 "nbformat_minor": 5
}
