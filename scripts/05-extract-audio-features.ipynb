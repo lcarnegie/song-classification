{
 "cells": [
  {
   "cell_type": "code",
   "execution_count": 2,
   "id": "80ab4a03",
   "metadata": {},
   "outputs": [],
   "source": [
    "# Cell 1: imports & settings\n",
    "import os\n",
    "import glob\n",
    "\n",
    "import numpy as np\n",
    "import pandas as pd\n",
    "import librosa\n",
    "\n",
    "os.chdir(\"C:\\\\Users\\\\lucac\\\\Documents\\\\GitHub\\\\song-cluster\")\n",
    "\n",
    "# Directory containing your .wav files\n",
    "AUDIO_DIR = './data/raw_data/musicgpt_(small)_files'\n",
    "\n",
    "# Audio settings\n",
    "SR = 22050        # sampling rate\n",
    "N_MFCC = 16       # number of MFCCs"
   ]
  },
  {
   "cell_type": "code",
   "execution_count": 4,
   "id": "a34cc362",
   "metadata": {},
   "outputs": [],
   "source": [
    "def extract_features(filepath):\n",
    "    \"\"\"\n",
    "    Load an audio file, extract MFCC means and \n",
    "    mean+variance of spectral centroid, rolloff, and ZCR.\n",
    "    Returns a dict of values plus artist_name & genre_top.\n",
    "    \"\"\"\n",
    "    y, sr = librosa.load(filepath, sr=SR)\n",
    "    \n",
    "    # MFCCs (n_mfcc x frames)\n",
    "    mfccs = librosa.feature.mfcc(y=y, sr=sr, n_mfcc=N_MFCC)\n",
    "    mfcc_means = mfccs.mean(axis=1)\n",
    "    \n",
    "    # Spectral features\n",
    "    centroid = librosa.feature.spectral_centroid(y=y, sr=sr)\n",
    "    rolloff  = librosa.feature.spectral_rolloff(y=y, sr=sr)\n",
    "    zcr      = librosa.feature.zero_crossing_rate(y)\n",
    "    \n",
    "    features = {\n",
    "        'artist_name':    'musicgpt',\n",
    "        # extract genre from filename: musicgpt_[genre].wav\n",
    "        'genre_top':      os.path.basename(filepath).split('_',1)[1].replace('.wav','')\n",
    "    }\n",
    "    \n",
    "    # add MFCC means\n",
    "    for i, m in enumerate(mfcc_means, start=1):\n",
    "        features[f'mfcc_{i}'] = m\n",
    "    \n",
    "    # add mean & variance for each\n",
    "    features['centroid_mean']     = centroid.mean()\n",
    "    features['centroid_variance'] = centroid.var()\n",
    "    features['rolloff_mean']      = rolloff.mean()\n",
    "    features['rolloff_variance']  = rolloff.var()\n",
    "    features['zcr_mean']          = zcr.mean()\n",
    "    features['zcr_variance']      = zcr.var()\n",
    "    \n",
    "    return features\n"
   ]
  },
  {
   "cell_type": "code",
   "execution_count": 7,
   "id": "5ebf5d6a",
   "metadata": {},
   "outputs": [],
   "source": [
    "all_files = glob.glob(os.path.join(AUDIO_DIR, 'musicgpt_*.wav'))\n",
    "\n",
    "rows = []\n",
    "for fp in all_files:\n",
    "    feat = extract_features(fp)\n",
    "    rows.append(feat)\n",
    "\n",
    "df = pd.DataFrame(rows)\n",
    "\n",
    "# reorder columns to match your head example\n",
    "col_order = (\n",
    "    ['artist_name', 'genre_top'] +\n",
    "    [f'mfcc_{i}' for i in range(1, N_MFCC+1)] +\n",
    "    ['centroid_mean','centroid_variance',\n",
    "     'rolloff_mean','rolloff_variance',\n",
    "     'zcr_mean','zcr_variance']\n",
    ")\n",
    "df = df[col_order]\n",
    "\n",
    "df.head(15)\n",
    "\n",
    "# save to csv\n",
    "df.to_csv('./data/analysis_data/musicgpt_features.csv', index=False)"
   ]
  }
 ],
 "metadata": {
  "kernelspec": {
   "display_name": "Python 3",
   "language": "python",
   "name": "python3"
  },
  "language_info": {
   "codemirror_mode": {
    "name": "ipython",
    "version": 3
   },
   "file_extension": ".py",
   "mimetype": "text/x-python",
   "name": "python",
   "nbconvert_exporter": "python",
   "pygments_lexer": "ipython3",
   "version": "3.13.2"
  }
 },
 "nbformat": 4,
 "nbformat_minor": 5
}
