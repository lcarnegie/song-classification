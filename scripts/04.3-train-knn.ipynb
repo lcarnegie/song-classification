{
 "cells": [
  {
   "cell_type": "code",
   "execution_count": 1,
   "id": "64ab7938",
   "metadata": {},
   "outputs": [],
   "source": [
    "import os\n",
    "import pandas as pd\n",
    "from sklearn.model_selection import train_test_split\n",
    "\n",
    "os.chdir(\"C:\\\\Users\\\\lucac\\\\Documents\\\\GitHub\\\\song-cluster\")\n",
    "\n",
    "df = pd.read_csv('data/analysis_data/exploration_data.csv')\n",
    "\n",
    "# Filter the dataset to include only the specified genres\n",
    "df = df[df['genre_top'].isin([\n",
    "    'Classical', 'Electronic', 'Experimental', 'Folk', \n",
    "    'Hip-Hop', 'Instrumental', 'International', 'Jazz', \n",
    "    'Pop', 'Rock'])]\n",
    "\n",
    "feature_cols = [c for c in df.columns if c.startswith(('mfcc_', 'centroid_', 'rolloff_', 'zcr_'))]\n",
    "X = df[feature_cols]\n",
    "y = df['genre_top']"
   ]
  },
  {
   "cell_type": "code",
   "execution_count": 2,
   "id": "59b40b87",
   "metadata": {},
   "outputs": [],
   "source": [
    "from sklearn.preprocessing   import StandardScaler\n",
    "from sklearn.neighbors       import KNeighborsClassifier\n",
    "from sklearn.metrics         import accuracy_score, classification_report, confusion_matrix\n",
    "\n",
    "# Split into train & test\n",
    "X_train, X_test, y_train, y_test = train_test_split(\n",
    "    X, y,\n",
    "    stratify=y,\n",
    "    test_size=0.2,\n",
    "    random_state=42\n",
    ")\n",
    "\n",
    "# Scale features\n",
    "scaler = StandardScaler()\n",
    "X_train_scaled = scaler.fit_transform(X_train)\n",
    "X_test_scaled  = scaler.transform(X_test)"
   ]
  },
  {
   "cell_type": "code",
   "execution_count": null,
   "id": "42557326",
   "metadata": {},
   "outputs": [
    {
     "name": "stdout",
     "output_type": "stream",
     "text": [
      "Accuracy: 0.5426599749058971\n",
      "               precision    recall  f1-score   support\n",
      "\n",
      "    Classical       0.50      0.72      0.59       242\n",
      "   Electronic       0.48      0.65      0.55      1852\n",
      " Experimental       0.50      0.49      0.49      2109\n",
      "         Folk       0.46      0.37      0.41       555\n",
      "      Hip-Hop       0.51      0.32      0.39       707\n",
      " Instrumental       0.39      0.08      0.14       414\n",
      "International       0.65      0.18      0.29       276\n",
      "         Jazz       0.75      0.03      0.05       113\n",
      "          Pop       0.43      0.02      0.04       465\n",
      "         Rock       0.63      0.79      0.70      2831\n",
      "\n",
      "     accuracy                           0.54      9564\n",
      "    macro avg       0.53      0.37      0.37      9564\n",
      " weighted avg       0.53      0.54      0.51      9564\n",
      "\n",
      "Confusion Matrix:\n",
      "[[ 174    8   47    4    0    1    0    0    0    8]\n",
      " [  14 1204  289   37   74    8    0    1    1  224]\n",
      " [  68  413 1038   66   35   25   16    0    4  444]\n",
      " [  14   55  122  203   10    4    5    0    1  141]\n",
      " [   0  302   51    5  223    0    0    0    0  126]\n",
      " [  40   81  159   29    5   35    0    0    0   65]\n",
      " [   4   68   34   12   10    0   51    0    2   95]\n",
      " [   8   22   35    6    5    2    1    3    0   31]\n",
      " [  11  119   93   24   26    1    4    0    9  178]\n",
      " [  18  223  217   55   50   13    1    0    4 2250]]\n"
     ]
    }
   ],
   "source": [
    "# Train KNN\n",
    "knn = KNeighborsClassifier(\n",
    "    n_neighbors=25,\n",
    "    weights='uniform',\n",
    "    algorithm='auto',\n",
    "    leaf_size=30,\n",
    "    p=2,\n",
    "    metric='euclidean',\n",
    "    metric_params=None,\n",
    "    n_jobs=-1\n",
    ")\n",
    "\n",
    "knn.fit(X_train_scaled, y_train)"
   ]
  },
  {
   "cell_type": "code",
   "execution_count": null,
   "id": "94cf3a16",
   "metadata": {},
   "outputs": [
    {
     "name": "stdout",
     "output_type": "stream",
     "text": [
      "Accuracy: 0.5426599749058971\n",
      "               precision    recall  f1-score   support\n",
      "\n",
      "    Classical       0.50      0.72      0.59       242\n",
      "   Electronic       0.48      0.65      0.55      1852\n",
      " Experimental       0.50      0.49      0.49      2109\n",
      "         Folk       0.46      0.37      0.41       555\n",
      "      Hip-Hop       0.51      0.32      0.39       707\n",
      " Instrumental       0.39      0.08      0.14       414\n",
      "International       0.65      0.18      0.29       276\n",
      "         Jazz       0.75      0.03      0.05       113\n",
      "          Pop       0.43      0.02      0.04       465\n",
      "         Rock       0.63      0.79      0.70      2831\n",
      "\n",
      "     accuracy                           0.54      9564\n",
      "    macro avg       0.53      0.37      0.37      9564\n",
      " weighted avg       0.53      0.54      0.51      9564\n",
      "\n",
      "Confusion Matrix:\n",
      "[[ 174    8   47    4    0    1    0    0    0    8]\n",
      " [  14 1204  289   37   74    8    0    1    1  224]\n",
      " [  68  413 1038   66   35   25   16    0    4  444]\n",
      " [  14   55  122  203   10    4    5    0    1  141]\n",
      " [   0  302   51    5  223    0    0    0    0  126]\n",
      " [  40   81  159   29    5   35    0    0    0   65]\n",
      " [   4   68   34   12   10    0   51    0    2   95]\n",
      " [   8   22   35    6    5    2    1    3    0   31]\n",
      " [  11  119   93   24   26    1    4    0    9  178]\n",
      " [  18  223  217   55   50   13    1    0    4 2250]]\n",
      "Feature Importances:\n"
     ]
    },
    {
     "ename": "AttributeError",
     "evalue": "'KNeighborsClassifier' object has no attribute 'feature_importances_'",
     "output_type": "error",
     "traceback": [
      "\u001b[31m---------------------------------------------------------------------------\u001b[39m",
      "\u001b[31mAttributeError\u001b[39m                            Traceback (most recent call last)",
      "\u001b[36mCell\u001b[39m\u001b[36m \u001b[39m\u001b[32mIn[19]\u001b[39m\u001b[32m, line 8\u001b[39m\n\u001b[32m      6\u001b[39m \u001b[38;5;28mprint\u001b[39m(confusion_matrix(y_test, y_pred))\n\u001b[32m      7\u001b[39m \u001b[38;5;28mprint\u001b[39m(\u001b[33m\"\u001b[39m\u001b[33mFeature Importances:\u001b[39m\u001b[33m\"\u001b[39m)\n\u001b[32m----> \u001b[39m\u001b[32m8\u001b[39m \u001b[38;5;28mprint\u001b[39m(\u001b[43mknn\u001b[49m\u001b[43m.\u001b[49m\u001b[43mfeature_importances_\u001b[49m)\n",
      "\u001b[31mAttributeError\u001b[39m: 'KNeighborsClassifier' object has no attribute 'feature_importances_'"
     ]
    }
   ],
   "source": [
    "# Predict & evaluate\n",
    "y_pred = knn.predict(X_test_scaled)\n",
    "print(\"Accuracy:\", accuracy_score(y_test, y_pred))\n",
    "print(classification_report(y_test, y_pred))\n",
    "print(\"Confusion Matrix:\")\n",
    "print(confusion_matrix(y_test, y_pred))"
   ]
  },
  {
   "cell_type": "code",
   "execution_count": 20,
   "id": "114e4e44",
   "metadata": {},
   "outputs": [
    {
     "data": {
      "text/plain": [
       "['models/knn_model.pkl']"
      ]
     },
     "execution_count": 20,
     "metadata": {},
     "output_type": "execute_result"
    }
   ],
   "source": [
    "# save the model\n",
    "import joblib\n",
    "joblib.dump(knn, 'models/knn_model.pkl')"
   ]
  }
 ],
 "metadata": {
  "kernelspec": {
   "display_name": "Python 3",
   "language": "python",
   "name": "python3"
  },
  "language_info": {
   "codemirror_mode": {
    "name": "ipython",
    "version": 3
   },
   "file_extension": ".py",
   "mimetype": "text/x-python",
   "name": "python",
   "nbconvert_exporter": "python",
   "pygments_lexer": "ipython3",
   "version": "3.13.2"
  }
 },
 "nbformat": 4,
 "nbformat_minor": 5
}
