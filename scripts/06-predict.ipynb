{
 "cells": [
  {
   "cell_type": "code",
   "execution_count": 1,
   "id": "be0873ee",
   "metadata": {},
   "outputs": [],
   "source": [
    "import pandas as pd\n",
    "import joblib\n",
    "import os\n",
    "from sklearn.metrics import accuracy_score\n",
    "from sklearn.preprocessing import StandardScaler\n",
    "from sklearn.metrics import classification_report, confusion_matrix\n",
    "from sklearn.model_selection import train_test_split\n",
    "\n",
    "os.chdir(\"C:\\\\Users\\\\lucac\\\\Documents\\\\GitHub\\\\song-cluster\")\n",
    "\n",
    "# Load dataset\n",
    "df = pd.read_csv('data/analysis_data/musicgpt_features.csv')\n",
    "\n",
    "X_test = df.drop([\"artist_name\", \"genre_top\"], axis=1).values\n",
    "y_test_label = df['genre_top']\n",
    "y_test_values = df['genre_top'].values\n",
    "\n",
    "# import most accurate (XGBoost) model\n",
    "model = joblib.load('models/xgboost_model.pkl')"
   ]
  },
  {
   "cell_type": "code",
   "execution_count": 2,
   "id": "9e49be12",
   "metadata": {},
   "outputs": [],
   "source": [
    "# import encoding table\n",
    "encoding_table = pd.read_csv('models/encoding_table.csv')\n",
    "\n",
    "# convert to dictionary mapping encoded class → label\n",
    "encoding_dict = dict(zip(encoding_table['class'], encoding_table['label']))"
   ]
  },
  {
   "cell_type": "code",
   "execution_count": 4,
   "id": "d12f6ea9",
   "metadata": {},
   "outputs": [
    {
     "name": "stdout",
     "output_type": "stream",
     "text": [
      "  MusicGPT Genre     Predicted\n",
      "0      classical  Experimental\n",
      "1     electronic    Electronic\n",
      "2   experimental  Experimental\n",
      "3           folk  Experimental\n",
      "4         hiphop  Experimental\n",
      "5   instrumental  Experimental\n",
      "6           jazz  Experimental\n",
      "7            pop  Experimental\n",
      "8           rock    Electronic\n"
     ]
    }
   ],
   "source": [
    "# Scale test values for XGBoost\n",
    "scaler = StandardScaler()\n",
    "X_test_scaled = scaler.fit_transform(X_test)\n",
    "\n",
    "# Make predictions on the test set\n",
    "y_pred_values = model.predict(X_test_scaled)\n",
    "\n",
    "# Unencode the predicted labels\n",
    "y_pred_label = pd.Series(y_pred_values).map(encoding_dict).values\n",
    "\n",
    "# Make a table of actual genres and predicted genres\n",
    "predictions_df = pd.DataFrame({'MusicGPT Genre': y_test_label, 'Predicted': y_pred_label})\n",
    "print(predictions_df)"
   ]
  }
 ],
 "metadata": {
  "kernelspec": {
   "display_name": "Python 3",
   "language": "python",
   "name": "python3"
  },
  "language_info": {
   "codemirror_mode": {
    "name": "ipython",
    "version": 3
   },
   "file_extension": ".py",
   "mimetype": "text/x-python",
   "name": "python",
   "nbconvert_exporter": "python",
   "pygments_lexer": "ipython3",
   "version": "3.13.2"
  }
 },
 "nbformat": 4,
 "nbformat_minor": 5
}
